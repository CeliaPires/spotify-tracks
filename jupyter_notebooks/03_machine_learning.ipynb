{
 "cells": [
  {
   "cell_type": "markdown",
   "id": "de4504a1",
   "metadata": {},
   "source": [
    "# Machine Learning"
   ]
  },
  {
   "cell_type": "markdown",
   "id": "7030a8ff",
   "metadata": {},
   "source": [
    "Aim:\n",
    "Task 1: Genre Classification\n",
    "Predict the track_genre from audio features (supervised ML)\n",
    "Task 2: Song Recommendation\n",
    "Recommend similar songs based on audio similarity (unsupervised ML)"
   ]
  },
  {
   "cell_type": "markdown",
   "id": "a9991017",
   "metadata": {},
   "source": [
    "## Step 1: Import Libraries"
   ]
  },
  {
   "cell_type": "code",
   "execution_count": 2,
   "id": "2ac0733a",
   "metadata": {},
   "outputs": [],
   "source": [
    "# Import libraries\n",
    "\n",
    "# Data handling\n",
    "import pandas as pd\n",
    "import numpy as np\n",
    "\n",
    "# Visualization\n",
    "import matplotlib.pyplot as plt\n",
    "import seaborn as sns\n",
    "\n",
    "# Preprocessing\n",
    "from sklearn.preprocessing import LabelEncoder, StandardScaler\n",
    "\n",
    "# ML models\n",
    "from sklearn.model_selection import train_test_split\n",
    "from sklearn.ensemble import RandomForestClassifier\n",
    "from sklearn.metrics import classification_report, confusion_matrix\n",
    "\n",
    "# Recommendation\n",
    "from sklearn.neighbors import NearestNeighbors"
   ]
  },
  {
   "cell_type": "markdown",
   "id": "3ffce00b",
   "metadata": {},
   "source": [
    "## Step 2: Load Dataset"
   ]
  },
  {
   "cell_type": "code",
   "execution_count": 3,
   "id": "ec383604",
   "metadata": {},
   "outputs": [],
   "source": [
    "df = pd.read_csv('../data/03_spotify_cleaned_dataset.csv')"
   ]
  },
  {
   "cell_type": "markdown",
   "id": "d8d57e5e",
   "metadata": {},
   "source": [
    "## Step 3: Prepare Data for Genre Classification"
   ]
  },
  {
   "cell_type": "markdown",
   "id": "dc8b18e5",
   "metadata": {},
   "source": []
  }
 ],
 "metadata": {
  "kernelspec": {
   "display_name": ".venv",
   "language": "python",
   "name": "python3"
  },
  "language_info": {
   "codemirror_mode": {
    "name": "ipython",
    "version": 3
   },
   "file_extension": ".py",
   "mimetype": "text/x-python",
   "name": "python",
   "nbconvert_exporter": "python",
   "pygments_lexer": "ipython3",
   "version": "3.12.8"
  }
 },
 "nbformat": 4,
 "nbformat_minor": 5
}
